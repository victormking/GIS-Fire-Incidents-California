{
 "cells": [
  {
   "cell_type": "code",
   "execution_count": 22,
   "id": "697d381d-821b-439f-b12d-7a0175a2af7e",
   "metadata": {},
   "outputs": [],
   "source": [
    "from IPython.core.interactiveshell import InteractiveShell\n",
    "InteractiveShell.ast_node_interactivity = \"all\"\n",
    "\n",
    "import pydeck as pdk\n",
    "import streamlit as st\n",
    "import pandas as pd\n",
    "import numpy as np\n",
    "import folium\n",
    "from streamlit_folium import st_folium\n",
    "from datetime import datetime\n",
    "from haversine import haversine, Unit"
   ]
  },
  {
   "cell_type": "code",
   "execution_count": 26,
   "id": "42c5c200-9a23-405c-82e4-760c8a26e735",
   "metadata": {},
   "outputs": [
    {
     "data": {
      "text/plain": [
       "DeltaGenerator(_form_data=FormData(form_id='distance_form'))"
      ]
     },
     "execution_count": 26,
     "metadata": {},
     "output_type": "execute_result"
    },
    {
     "data": {
      "text/plain": [
       "DeltaGenerator(_root_container=1, _parent=DeltaGenerator(_form_data=FormData(form_id='distance_form')))"
      ]
     },
     "execution_count": 26,
     "metadata": {},
     "output_type": "execute_result"
    },
    {
     "data": {
      "text/plain": [
       "DeltaGenerator(_form_data=FormData(form_id='distance_form'))"
      ]
     },
     "execution_count": 26,
     "metadata": {},
     "output_type": "execute_result"
    },
    {
     "data": {
      "text/plain": [
       "DeltaGenerator(_form_data=FormData(form_id='distance_form'))"
      ]
     },
     "execution_count": 26,
     "metadata": {},
     "output_type": "execute_result"
    },
    {
     "data": {
      "text/plain": [
       "DeltaGenerator(_form_data=FormData(form_id='distance_form'))"
      ]
     },
     "execution_count": 26,
     "metadata": {},
     "output_type": "execute_result"
    }
   ],
   "source": [
    "# Load data\n",
    "def load_data():\n",
    "    data = pd.read_csv('fire_in_california.csv')\n",
    "    data['acq_date'] = pd.to_datetime(data['acq_date'])\n",
    "    data['month'] = data['acq_date'].dt.month_name()\n",
    "    return data\n",
    "\n",
    "# Haversine formula to calculate distance\n",
    "def haversine_distance(lat1, lon1, lat2, lon2):\n",
    "    return haversine((lat1, lon1), (lat2, lon2))\n",
    "\n",
    "# Calculate distances between all pairs of fires\n",
    "def calculate_distances(data):\n",
    "    distances_list = []\n",
    "    for i in range(len(data)):\n",
    "        for j in range(i+1, len(data)):\n",
    "            lat1, lon1 = data.iloc[i]['latitude'], data.iloc[i]['longitude']\n",
    "            lat2, lon2 = data.iloc[j]['latitude'], data.iloc[j]['longitude']\n",
    "            distance = haversine_distance(lat1, lon1, lat2, lon2)\n",
    "            distances_list.append({'fire1': i, 'fire2': j, 'distance': distance})\n",
    "    return pd.DataFrame(distances_list)\n",
    "\n",
    "# Streamlit app\n",
    "st.title('Fire Incidents in California')\n",
    "\n",
    "data = load_data()\n",
    "distances = calculate_distances(data)\n",
    "\n",
    "# Display statistics\n",
    "st.sidebar.title(\"Distance Statistics\")\n",
    "st.sidebar.write(f\"Total number of fires: {len(data)}\")\n",
    "st.sidebar.write(f\"Shortest distance between fires: {distances['distance'].min()} km\")\n",
    "st.sidebar.write(f\"Longest distance between fires: {distances['distance'].max()} km\")\n",
    "st.sidebar.write(f\"Average distance between fires: {distances['distance'].mean()} km\")\n",
    "\n",
    "# Plot the map with Pydeck\n",
    "st.header('Fire Locations')\n",
    "\n",
    "scatter_layer = pdk.Layer(\n",
    "    'ScatterplotLayer',\n",
    "    data,\n",
    "    get_position='[longitude, latitude]',\n",
    "    get_color='[200, 30, 0, 160]',\n",
    "    get_radius=5000,\n",
    "    pickable=True\n",
    ")\n",
    "\n",
    "tooltip = {\n",
    "    \"html\": \"<b>Fire Date:</b> {acq_date}<br><b>Latitude:</b> {latitude}<br><b>Longitude:</b> {longitude}\",\n",
    "    \"style\": {\"color\": \"white\"}\n",
    "}\n",
    "\n",
    "r = pdk.Deck(\n",
    "    map_style='mapbox://styles/mapbox/light-v9',\n",
    "    initial_view_state=pdk.ViewState(\n",
    "        latitude=data['latitude'].mean(),\n",
    "        longitude=data['longitude'].mean(),\n",
    "        zoom=6,\n",
    "        pitch=50,\n",
    "    ),\n",
    "    layers=[scatter_layer],\n",
    "    tooltip=tooltip\n",
    ")\n",
    "\n",
    "st.pydeck_chart(r)\n",
    "\n",
    "# Interactive distance calculation\n",
    "st.header(\"Calculate Distance Between Fires\")\n",
    "st.write(\"Enter the coordinates of two fires to calculate the distance between them.\")\n",
    "\n",
    "with st.form(key='distance_form'):\n",
    "    lat1 = st.number_input(\"Latitude of Fire 1\")\n",
    "    lon1 = st.number_input(\"Longitude of Fire 1\")\n",
    "    lat2 = st.number_input(\"Latitude of Fire 2\")\n",
    "    lon2 = st.number_input(\"Longitude of Fire 2\")\n",
    "    submit_button = st.form_submit_button(label='Calculate Distance')\n",
    "\n",
    "if submit_button:\n",
    "    distance = haversine_distance(lat1, lon1, lat2, lon2)\n",
    "    st.write(f\"Distance between selected points: {distance:.2f} km\")\n"
   ]
  },
  {
   "cell_type": "code",
   "execution_count": null,
   "id": "096899a0-bbcf-40a1-b093-ec41c0d379e8",
   "metadata": {},
   "outputs": [],
   "source": []
  }
 ],
 "metadata": {
  "kernelspec": {
   "display_name": "Python 3 (ipykernel)",
   "language": "python",
   "name": "python3"
  },
  "language_info": {
   "codemirror_mode": {
    "name": "ipython",
    "version": 3
   },
   "file_extension": ".py",
   "mimetype": "text/x-python",
   "name": "python",
   "nbconvert_exporter": "python",
   "pygments_lexer": "ipython3",
   "version": "3.11.6"
  }
 },
 "nbformat": 4,
 "nbformat_minor": 5
}
