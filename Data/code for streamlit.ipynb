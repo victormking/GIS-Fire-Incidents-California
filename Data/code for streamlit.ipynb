{
 "cells": [
  {
   "cell_type": "code",
   "execution_count": 1,
   "id": "400dc1f1-5dca-4958-a3d9-5e6c1cdd4253",
   "metadata": {},
   "outputs": [],
   "source": [
    "from IPython.core.interactiveshell import InteractiveShell\n",
    "InteractiveShell.ast_node_interactivity = \"all\""
   ]
  },
  {
   "cell_type": "code",
   "execution_count": 2,
   "id": "e0f1d20f-36c7-47df-8e32-56e7924f9268",
   "metadata": {},
   "outputs": [
    {
     "name": "stderr",
     "output_type": "stream",
     "text": [
      "2024-06-13 14:14:24.555 \n",
      "  \u001b[33m\u001b[1mWarning:\u001b[0m to view this Streamlit app on a browser, run it with the following\n",
      "  command:\n",
      "\n",
      "    streamlit run C:\\Users\\BMT\\anaconda3\\Lib\\site-packages\\ipykernel_launcher.py [ARGUMENTS]\n"
     ]
    },
    {
     "data": {
      "text/plain": [
       "DeltaGenerator()"
      ]
     },
     "execution_count": 2,
     "metadata": {},
     "output_type": "execute_result"
    },
    {
     "data": {
      "text/plain": [
       "DeltaGenerator()"
      ]
     },
     "execution_count": 2,
     "metadata": {},
     "output_type": "execute_result"
    }
   ],
   "source": [
    "import streamlit as st\n",
    "import pandas as pd\n",
    "import pydeck as pdk\n",
    "\n",
    "# Function to load and preprocess data\n",
    "def load_data():\n",
    "    data = pd.read_csv('fire_in_california.csv')\n",
    "    data['acq_date'] = pd.to_datetime(data['acq_date'])\n",
    "    data['month'] = data['acq_date'].dt.month_name()\n",
    "    return data\n",
    "\n",
    "# Load data\n",
    "data = load_data()\n",
    "\n",
    "# Streamlit app\n",
    "st.title('Fire Incidents in California')\n",
    "\n",
    "# Dropdown to select month\n",
    "month_list = data['month'].unique()\n",
    "selected_month = st.selectbox('Select a Month', month_list)\n",
    "\n",
    "# Filter data based on selected month\n",
    "filtered_data = data[data['month'] == selected_month]\n",
    "\n",
    "# Display map\n",
    "if not filtered_data.empty:\n",
    "    st.pydeck_chart(pdk.Deck(\n",
    "        map_style='mapbox://styles/mapbox/light-v9',\n",
    "        initial_view_state=pdk.ViewState(\n",
    "            latitude=filtered_data['latitude'].mean(),\n",
    "            longitude=filtered_data['longitude'].mean(),\n",
    "            zoom=6,\n",
    "            pitch=50,\n",
    "        ),\n",
    "        layers=[\n",
    "            pdk.Layer(\n",
    "                'ScatterplotLayer',\n",
    "                data=filtered_data,\n",
    "                get_position='[longitude, latitude]',\n",
    "                get_color='[200, 30, 0, 160]',\n",
    "                get_radius=5000,\n",
    "            ),\n",
    "        ],\n",
    "    ))\n",
    "else:\n",
    "    st.write('No data available for the selected month.')\n"
   ]
  },
  {
   "cell_type": "code",
   "execution_count": null,
   "id": "5dc54a2c-997c-415c-87e7-49c80c8f66bf",
   "metadata": {},
   "outputs": [],
   "source": []
  }
 ],
 "metadata": {
  "kernelspec": {
   "display_name": "Python 3 (ipykernel)",
   "language": "python",
   "name": "python3"
  },
  "language_info": {
   "codemirror_mode": {
    "name": "ipython",
    "version": 3
   },
   "file_extension": ".py",
   "mimetype": "text/x-python",
   "name": "python",
   "nbconvert_exporter": "python",
   "pygments_lexer": "ipython3",
   "version": "3.11.6"
  }
 },
 "nbformat": 4,
 "nbformat_minor": 5
}
